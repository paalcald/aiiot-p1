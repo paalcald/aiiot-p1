{
 "cells": [
  {
   "cell_type": "code",
   "execution_count": 65,
   "metadata": {},
   "outputs": [],
   "source": [
    "import pandas as pd\n",
    "import numpy as np\n",
    "from surprise import Dataset, Reader, accuracy, SVD, NMF\n",
    "from surprise.model_selection import train_test_split\n",
    "import surprise.prediction_algorithms.knns as knns\n",
    "import surprise.prediction_algorithms.matrix_factorization"
   ]
  },
  {
   "cell_type": "code",
   "execution_count": null,
   "metadata": {},
   "outputs": [],
   "source": [
    "# We load all the variables we care about\n",
    "ratings= pd.read_csv(\"ml-100k/ratings.csv\")\n",
    "movies = pd.read_csv('ml-100k/movies.csv')\n",
    "tags = pd.read_csv('ml-100k/tags.csv')\n",
    "links = pd.read_csv('ml-100k/links.csv')\n"
   ]
  },
  {
   "cell_type": "code",
   "execution_count": 15,
   "metadata": {},
   "outputs": [
    {
     "data": {
      "text/html": [
       "<div>\n",
       "<style scoped>\n",
       "    .dataframe tbody tr th:only-of-type {\n",
       "        vertical-align: middle;\n",
       "    }\n",
       "\n",
       "    .dataframe tbody tr th {\n",
       "        vertical-align: top;\n",
       "    }\n",
       "\n",
       "    .dataframe thead th {\n",
       "        text-align: right;\n",
       "    }\n",
       "</style>\n",
       "<table border=\"1\" class=\"dataframe\">\n",
       "  <thead>\n",
       "    <tr style=\"text-align: right;\">\n",
       "      <th></th>\n",
       "      <th>userId</th>\n",
       "      <th>movieId</th>\n",
       "      <th>rating</th>\n",
       "      <th>timestamp</th>\n",
       "    </tr>\n",
       "  </thead>\n",
       "  <tbody>\n",
       "    <tr>\n",
       "      <th>0</th>\n",
       "      <td>1</td>\n",
       "      <td>1</td>\n",
       "      <td>4.0</td>\n",
       "      <td>964982703</td>\n",
       "    </tr>\n",
       "    <tr>\n",
       "      <th>1</th>\n",
       "      <td>1</td>\n",
       "      <td>3</td>\n",
       "      <td>4.0</td>\n",
       "      <td>964981247</td>\n",
       "    </tr>\n",
       "    <tr>\n",
       "      <th>2</th>\n",
       "      <td>1</td>\n",
       "      <td>6</td>\n",
       "      <td>4.0</td>\n",
       "      <td>964982224</td>\n",
       "    </tr>\n",
       "    <tr>\n",
       "      <th>3</th>\n",
       "      <td>1</td>\n",
       "      <td>47</td>\n",
       "      <td>5.0</td>\n",
       "      <td>964983815</td>\n",
       "    </tr>\n",
       "    <tr>\n",
       "      <th>4</th>\n",
       "      <td>1</td>\n",
       "      <td>50</td>\n",
       "      <td>5.0</td>\n",
       "      <td>964982931</td>\n",
       "    </tr>\n",
       "  </tbody>\n",
       "</table>\n",
       "</div>"
      ],
      "text/plain": [
       "   userId  movieId  rating  timestamp\n",
       "0       1        1     4.0  964982703\n",
       "1       1        3     4.0  964981247\n",
       "2       1        6     4.0  964982224\n",
       "3       1       47     5.0  964983815\n",
       "4       1       50     5.0  964982931"
      ]
     },
     "execution_count": 15,
     "metadata": {},
     "output_type": "execute_result"
    }
   ],
   "source": [
    "ratings.head()"
   ]
  },
  {
   "cell_type": "code",
   "execution_count": null,
   "metadata": {},
   "outputs": [],
   "source": [
    "reader = Reader(rating_scale=(1,5))\n",
    "# Train/Test split using pandas alone\n",
    "#train = ratings.sample(frac=0.75, random_state=1234)\n",
    "#test = ratings.drop(train.index)\n",
    "data = Dataset.load_from_df(ratings[['userId', 'movieId', 'rating']], reader)"
   ]
  },
  {
   "cell_type": "code",
   "execution_count": null,
   "metadata": {},
   "outputs": [
    {
     "name": "stdout",
     "output_type": "stream",
     "text": [
      "Computing the pearson similarity matrix...\n",
      "Done computing similarity matrix.\n"
     ]
    },
    {
     "data": {
      "text/plain": [
       "<surprise.prediction_algorithms.knns.KNNBasic at 0x7927842843b0>"
      ]
     },
     "execution_count": 24,
     "metadata": {},
     "output_type": "execute_result"
    }
   ],
   "source": [
    "trainset, testset = train_test_split(data, test_size=0.25, random_state=1234)\n",
    "algo = knns.KNNBasic(sim_options={\"name\": \"pearson\"})\n",
    "algo.fit(trainset)"
   ]
  },
  {
   "cell_type": "code",
   "execution_count": null,
   "metadata": {},
   "outputs": [],
   "source": [
    "trainset, testset = train_test_split(ratings, test_size=0.25, random_state=1234)"
   ]
  },
  {
   "cell_type": "code",
   "execution_count": 26,
   "metadata": {},
   "outputs": [
    {
     "name": "stdout",
     "output_type": "stream",
     "text": [
      "Computing the pearson similarity matrix...\n",
      "Done computing similarity matrix.\n"
     ]
    }
   ],
   "source": [
    "algo = knns.KNNBasic(sim_options={\"name\": \"pearson\"})\n",
    "algo.fit(trainset)\n",
    "predictions = algo.test(testset)"
   ]
  },
  {
   "cell_type": "code",
   "execution_count": null,
   "metadata": {},
   "outputs": [
    {
     "name": "stdout",
     "output_type": "stream",
     "text": [
      "Computing the pearson similarity matrix...\n",
      "Done computing similarity matrix.\n"
     ]
    }
   ],
   "source": [
    "\n",
    "knn_prod = knns.KNNBasic(sim_options={\"name\": \"pearson\", 'user_based': False})\n",
    "knn_prod.fit(trainset)\n",
    "knn_prod_pred = knn_prod.test(testset)"
   ]
  },
  {
   "cell_type": "code",
   "execution_count": null,
   "metadata": {},
   "outputs": [
    {
     "data": {
      "text/plain": [
       "41.32622950819672"
      ]
     },
     "execution_count": 71,
     "metadata": {},
     "output_type": "execute_result"
    }
   ],
   "source": [
    "svd = SVD()\n",
    "svd.fit(trainset)\n",
    "svd_predictions = svd.test(testset)\n",
    "uuid= []\n",
    "[uuid.append(pred.uid) for pred in svd_predictions]\n",
    "len(uuid)/ len(set(uuid))"
   ]
  },
  {
   "cell_type": "code",
   "execution_count": 66,
   "metadata": {},
   "outputs": [],
   "source": [
    "nmf = NMF()\n",
    "nmf.fit(trainset)\n",
    "nmf_predictions = svd.test(testset)"
   ]
  },
  {
   "cell_type": "code",
   "execution_count": 47,
   "metadata": {},
   "outputs": [
    {
     "data": {
      "text/plain": [
       "[9433    Rogue One: A Star Wars Story (2016)\n",
       " Name: title, dtype: object,\n",
       " 922    Godfather: Part II, The (1974)\n",
       " Name: title, dtype: object,\n",
       " 1445    Breakfast Club, The (1985)\n",
       " Name: title, dtype: object,\n",
       " 123    Apollo 13 (1995)\n",
       " Name: title, dtype: object,\n",
       " 1883    Office Space (1999)\n",
       " Name: title, dtype: object]"
      ]
     },
     "execution_count": 47,
     "metadata": {},
     "output_type": "execute_result"
    }
   ],
   "source": [
    "[movies[movies['movieId'] == recomended_id]['title'] for recomended_id in [item.iid for item in svd_predictions[0:5]]]"
   ]
  },
  {
   "cell_type": "code",
   "execution_count": 60,
   "metadata": {},
   "outputs": [],
   "source": [
    "def get_titles(prediction, n, movies):\n",
    "    return [movies.loc[movies['movieId'] == recomended_id, 'title'].item() for recomended_id in [item.iid for item in prediction[0:n]]]"
   ]
  },
  {
   "cell_type": "code",
   "execution_count": 97,
   "metadata": {},
   "outputs": [
    {
     "ename": "KeyboardInterrupt",
     "evalue": "",
     "output_type": "error",
     "traceback": [
      "\u001b[0;31m---------------------------------------------------------------------------\u001b[0m",
      "\u001b[0;31mKeyboardInterrupt\u001b[0m                         Traceback (most recent call last)",
      "Cell \u001b[0;32mIn[97], line 3\u001b[0m\n\u001b[1;32m      1\u001b[0m \u001b[38;5;28;01mimport\u001b[39;00m\u001b[38;5;250m \u001b[39m\u001b[38;5;21;01mitertools\u001b[39;00m\n\u001b[0;32m----> 3\u001b[0m [\u001b[43malgo\u001b[49m\u001b[38;5;241;43m.\u001b[39;49m\u001b[43mpredict\u001b[49m\u001b[43m(\u001b[49m\u001b[43muid\u001b[49m\u001b[43m,\u001b[49m\u001b[43m \u001b[49m\u001b[43miid\u001b[49m\u001b[43m)\u001b[49m \u001b[38;5;28;01mfor\u001b[39;00m uid, iid \u001b[38;5;129;01min\u001b[39;00m (itertools\u001b[38;5;241m.\u001b[39mproduct([test[\u001b[38;5;241m0\u001b[39m] \u001b[38;5;28;01mfor\u001b[39;00m test \u001b[38;5;129;01min\u001b[39;00m testset], movies[\u001b[38;5;124m'\u001b[39m\u001b[38;5;124mmovieId\u001b[39m\u001b[38;5;124m'\u001b[39m]))]\n",
      "File \u001b[0;32m~/.virtualenvs/iaiot/lib/python3.12/site-packages/surprise/prediction_algorithms/algo_base.py:118\u001b[0m, in \u001b[0;36mAlgoBase.predict\u001b[0;34m(self, uid, iid, r_ui, clip, verbose)\u001b[0m\n\u001b[1;32m    116\u001b[0m \u001b[38;5;28;01mif\u001b[39;00m clip:\n\u001b[1;32m    117\u001b[0m     lower_bound, higher_bound \u001b[38;5;241m=\u001b[39m \u001b[38;5;28mself\u001b[39m\u001b[38;5;241m.\u001b[39mtrainset\u001b[38;5;241m.\u001b[39mrating_scale\n\u001b[0;32m--> 118\u001b[0m     est \u001b[38;5;241m=\u001b[39m \u001b[38;5;28;43mmin\u001b[39;49m\u001b[43m(\u001b[49m\u001b[43mhigher_bound\u001b[49m\u001b[43m,\u001b[49m\u001b[43m \u001b[49m\u001b[43mest\u001b[49m\u001b[43m)\u001b[49m\n\u001b[1;32m    119\u001b[0m     est \u001b[38;5;241m=\u001b[39m \u001b[38;5;28mmax\u001b[39m(lower_bound, est)\n\u001b[1;32m    121\u001b[0m pred \u001b[38;5;241m=\u001b[39m Prediction(uid, iid, r_ui, est, details)\n",
      "\u001b[0;31mKeyboardInterrupt\u001b[0m: "
     ]
    }
   ],
   "source": [
    "import itertools\n",
    "\n",
    "[algo.predict(uid, iid) for uid, iid in (itertools.product([test[0] for test in testset], movies['movieId']))]"
   ]
  },
  {
   "cell_type": "code",
   "execution_count": 75,
   "metadata": {},
   "outputs": [
    {
     "data": {
      "text/plain": [
       "['Rogue One: A Star Wars Story (2016)',\n",
       " 'Godfather: Part II, The (1974)',\n",
       " 'Breakfast Club, The (1985)',\n",
       " 'Apollo 13 (1995)',\n",
       " 'Office Space (1999)',\n",
       " 'Logan (2017)',\n",
       " 'Tucker & Dale vs Evil (2010)',\n",
       " 'Easy Rider (1969)',\n",
       " 'Purge, The (2013)',\n",
       " 'Guardians of the Galaxy (2014)',\n",
       " 'Dreamers, The (2003)',\n",
       " 'Congo (1995)',\n",
       " 'Talented Mr. Ripley, The (1999)',\n",
       " 'Scanner Darkly, A (2006)',\n",
       " 'Get Shorty (1995)',\n",
       " 'Twelve Monkeys (a.k.a. 12 Monkeys) (1995)',\n",
       " 'Dogtown and Z-Boyz (2001)',\n",
       " 'Fight Club (1999)',\n",
       " 'Hard Candy (2005)',\n",
       " 'Bruce Almighty (2003)',\n",
       " 'Chamber, The (1996)',\n",
       " 'American President, The (1995)',\n",
       " 'Mission: Impossible (1996)',\n",
       " 'Forrest Gump (1994)',\n",
       " 'Taxi 4 (2007)',\n",
       " 'Snowpiercer (2013)',\n",
       " 'Truman Show, The (1998)',\n",
       " 'Desperately Seeking Susan (1985)',\n",
       " 'Twister (1996)',\n",
       " 'Beauty and the Beast (1991)']"
      ]
     },
     "execution_count": 75,
     "metadata": {},
     "output_type": "execute_result"
    }
   ],
   "source": [
    "get_titles(predictions, 30, movies)"
   ]
  },
  {
   "cell_type": "code",
   "execution_count": 76,
   "metadata": {},
   "outputs": [
    {
     "data": {
      "text/plain": [
       "['Rogue One: A Star Wars Story (2016)',\n",
       " 'Godfather: Part II, The (1974)',\n",
       " 'Breakfast Club, The (1985)',\n",
       " 'Apollo 13 (1995)',\n",
       " 'Office Space (1999)',\n",
       " 'Logan (2017)',\n",
       " 'Tucker & Dale vs Evil (2010)',\n",
       " 'Easy Rider (1969)',\n",
       " 'Purge, The (2013)',\n",
       " 'Guardians of the Galaxy (2014)',\n",
       " 'Dreamers, The (2003)',\n",
       " 'Congo (1995)',\n",
       " 'Talented Mr. Ripley, The (1999)',\n",
       " 'Scanner Darkly, A (2006)',\n",
       " 'Get Shorty (1995)',\n",
       " 'Twelve Monkeys (a.k.a. 12 Monkeys) (1995)',\n",
       " 'Dogtown and Z-Boyz (2001)',\n",
       " 'Fight Club (1999)',\n",
       " 'Hard Candy (2005)',\n",
       " 'Bruce Almighty (2003)',\n",
       " 'Chamber, The (1996)',\n",
       " 'American President, The (1995)',\n",
       " 'Mission: Impossible (1996)',\n",
       " 'Forrest Gump (1994)',\n",
       " 'Taxi 4 (2007)',\n",
       " 'Snowpiercer (2013)',\n",
       " 'Truman Show, The (1998)',\n",
       " 'Desperately Seeking Susan (1985)',\n",
       " 'Twister (1996)',\n",
       " 'Beauty and the Beast (1991)']"
      ]
     },
     "execution_count": 76,
     "metadata": {},
     "output_type": "execute_result"
    }
   ],
   "source": [
    "get_titles(svd_predictions, 30, movies)"
   ]
  },
  {
   "cell_type": "code",
   "execution_count": 61,
   "metadata": {},
   "outputs": [
    {
     "data": {
      "text/plain": [
       "['Rogue One: A Star Wars Story (2016)',\n",
       " 'Godfather: Part II, The (1974)',\n",
       " 'Breakfast Club, The (1985)',\n",
       " 'Apollo 13 (1995)',\n",
       " 'Office Space (1999)',\n",
       " 'Logan (2017)',\n",
       " 'Tucker & Dale vs Evil (2010)',\n",
       " 'Easy Rider (1969)',\n",
       " 'Purge, The (2013)',\n",
       " 'Guardians of the Galaxy (2014)']"
      ]
     },
     "execution_count": 61,
     "metadata": {},
     "output_type": "execute_result"
    }
   ],
   "source": [
    "get_titles(knn_prod_pred, 10, movies)"
   ]
  },
  {
   "cell_type": "code",
   "execution_count": 67,
   "metadata": {},
   "outputs": [
    {
     "data": {
      "text/plain": [
       "['Rogue One: A Star Wars Story (2016)',\n",
       " 'Godfather: Part II, The (1974)',\n",
       " 'Breakfast Club, The (1985)',\n",
       " 'Apollo 13 (1995)',\n",
       " 'Office Space (1999)',\n",
       " 'Logan (2017)',\n",
       " 'Tucker & Dale vs Evil (2010)',\n",
       " 'Easy Rider (1969)',\n",
       " 'Purge, The (2013)',\n",
       " 'Guardians of the Galaxy (2014)']"
      ]
     },
     "execution_count": 67,
     "metadata": {},
     "output_type": "execute_result"
    }
   ],
   "source": [
    "get_titles(nmf_predictions, 10, movies)"
   ]
  }
 ],
 "metadata": {
  "kernelspec": {
   "display_name": "iaiot",
   "language": "python",
   "name": "python3"
  },
  "language_info": {
   "codemirror_mode": {
    "name": "ipython",
    "version": 3
   },
   "file_extension": ".py",
   "mimetype": "text/x-python",
   "name": "python",
   "nbconvert_exporter": "python",
   "pygments_lexer": "ipython3",
   "version": "3.12.3"
  }
 },
 "nbformat": 4,
 "nbformat_minor": 2
}
